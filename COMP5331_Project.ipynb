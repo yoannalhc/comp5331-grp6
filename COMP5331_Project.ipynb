{
 "cells": [
  {
   "cell_type": "markdown",
   "metadata": {
    "id": "YVPzFZH4gE_B"
   },
   "source": [
    "# COMP5331 Group 6 Project: Resilient k-Clustering"
   ]
  },
  {
   "cell_type": "code",
   "execution_count": 1,
   "metadata": {
    "id": "yw95uRdmfuqc"
   },
   "outputs": [],
   "source": [
    "import numpy as np\n",
    "import math\n",
    "import copy"
   ]
  },
  {
   "cell_type": "code",
   "execution_count": 3,
   "metadata": {},
   "outputs": [],
   "source": [
    "# https://dev.to/theramoliya/python-kruskals-algorithm-for-minimum-spanning-trees-2bmb\n",
    "class Graph:\n",
    "    def __init__(self, vertices, graph=None):\n",
    "        self.V = vertices\n",
    "        if graph is None:\n",
    "            self.graph = []\n",
    "        else:\n",
    "            self.graph = copy.deepcopy(graph)\n",
    "        \n",
    "    def copy(self):\n",
    "        return Graph(self.V, self.graph)\n",
    "\n",
    "    def add_edge(self, u, v, w):\n",
    "        self.graph.append([u, v, w])\n",
    "    \n",
    "    def remove_edge(self, u, v, w):\n",
    "        self.graph.remove([u, v, w])\n",
    "\n",
    "    def kruskal_mst(self):\n",
    "        def find(parent, i):\n",
    "            if parent[i] == i:\n",
    "                return i\n",
    "            return find(parent, parent[i])\n",
    "\n",
    "        def union(parent, rank, x, y):\n",
    "            x_root = find(parent, x)\n",
    "            y_root = find(parent, y)\n",
    "\n",
    "            if rank[x_root] < rank[y_root]:\n",
    "                parent[x_root] = y_root\n",
    "            elif rank[x_root] > rank[y_root]:\n",
    "                parent[y_root] = x_root\n",
    "            else:\n",
    "                parent[y_root] = x_root\n",
    "                rank[x_root] += 1\n",
    "\n",
    "        result = []\n",
    "        i = 0\n",
    "        e = 0\n",
    "\n",
    "        self.graph = sorted(self.graph, key=lambda item: item[2])\n",
    "        parent = [i for i in range(self.V)]\n",
    "        rank = [0] * self.V\n",
    "\n",
    "        while e < self.V - 1:\n",
    "            u, v, w = self.graph[i]\n",
    "            i += 1\n",
    "            x = find(parent, u)\n",
    "            y = find(parent, v)\n",
    "\n",
    "            if x != y:\n",
    "                e += 1\n",
    "                result.append([u, v, w])\n",
    "                union(parent, rank, x, y)\n",
    "\n",
    "        return result\n"
   ]
  },
  {
   "cell_type": "code",
   "execution_count": 4,
   "metadata": {
    "id": "j1bo0eIXrOj4"
   },
   "outputs": [],
   "source": [
    "class resilient_k_center():\n",
    "    def __init__(self, dataset, k, epsilon, lamb=0.1):\n",
    "        self.dataset = dataset\n",
    "        self.k = k\n",
    "        self.epsilon = epsilon\n",
    "        self.lamb = lamb\n",
    "        self.number_of_centers = int(2 * self.k * np.log(1 / self.epsilon))\n",
    "\n",
    "    def resilient_k_center(self):\n",
    "        # randomly assign centers (line 1)\n",
    "        centers = self.dataset[np.random.choice(self.dataset.shape[0],\n",
    "                                                self.number_of_centers,\n",
    "                                                replace=False)]\n",
    "        print(centers)\n",
    "\n",
    "        # construct edges and weights (line 2-4)\n",
    "        E = []\n",
    "        w = {}\n",
    "        for index_p, p in enumerate(self.dataset):\n",
    "            for index_q, q in enumerate(self.dataset):\n",
    "                if index_p < index_q:\n",
    "                    if len(np.intersect1d([p, q], centers)) != 0:\n",
    "                        E.append((index_p, index_q))\n",
    "\n",
    "                        # Integrated line 1-7 of algorithm Resilient-MST in the weight update below\n",
    "                        if (p in centers) and (q in centers):\n",
    "                            w[(index_p, index_q)] = 0\n",
    "                        else:\n",
    "                            alpha = np.random.rand()\n",
    "                            i = math.ceil(alpha + math.log(np.linalg.norm(p - q), self.lamb))\n",
    "                            w[(index_p, index_q)] = self.lamb ** (i - alpha)\n",
    "        print(E)\n",
    "        print(w)\n",
    "        \n",
    "        # construct weighted graph (line 5)\n",
    "        g = Graph(len(self.dataset))\n",
    "        for edge in E:\n",
    "            index_p, index_q = edge\n",
    "            g.add_edge(index_p, index_q, w[(index_p, index_q)])\n",
    "            g.add_edge(index_q, index_p, w[(index_p, index_q)])\n",
    "        print(\"weighted graph: \\n\", g.graph)    \n",
    "\n",
    "        # construct MST (line 6)\n",
    "        T = g.kruskal_mst()\n",
    "        print(\"resilient MST: \\n\", T)\n",
    "\n",
    "        # assign clusters (line 7-8)\n",
    "        cluster = []\n",
    "        for index_p, p in enumerate(self.dataset):\n",
    "            if p in centers:\n",
    "                cluster.append((p, p))\n",
    "            else:\n",
    "                for edge in T:\n",
    "                    index_u, index_v, _ = edge\n",
    "                    if index_p == index_u and self.dataset[index_v] in centers:\n",
    "                        cluster.append((p, self.dataset[index_v]))\n",
    "                    elif index_p == index_v and self.dataset[index_u] in centers:\n",
    "                        cluster.append((p, self.dataset[index_u]))\n",
    "\n",
    "        # (line 9-11)\n",
    "        # TODO\n",
    "\n",
    "        print(cluster)\n",
    "        return cluster\n",
    "        "
   ]
  },
  {
   "cell_type": "code",
   "execution_count": null,
   "metadata": {},
   "outputs": [],
   "source": [
    "# class resilient_k_center():\n",
    "#     def __init__(self, dataset, k, epsilon, lamb=0.1):\n",
    "#         self.dataset = dataset\n",
    "#         self.k = k\n",
    "#         self.epsilon = epsilon\n",
    "#         self.lamb = lamb\n",
    "#         self.number_of_centers = int(2 * self.k * np.log(1 / self.epsilon))\n",
    "\n",
    "#     def resilient_k_center(self):\n",
    "#         # randomly assign centers (line 1)\n",
    "#         centers = self.dataset[np.random.choice(self.dataset.shape[0],\n",
    "#                                                 self.number_of_centers,\n",
    "#                                                 replace=False)]\n",
    "#         print(\"Random Centers:\", centers)\n",
    "\n",
    "#         # construct edges and weights (line 2-4)\n",
    "#         E = []\n",
    "#         w = {}\n",
    "#         for index_p, p in enumerate(self.dataset):\n",
    "#             for index_q, q in enumerate(self.dataset):\n",
    "#                 if index_p < index_q:\n",
    "#                     if len(np.intersect1d([p, q], centers)) != 0:\n",
    "#                         E.append((index_p, index_q))\n",
    "#                     if (p in centers) and (q in centers):\n",
    "#                         w[(index_p, index_q)] = 0\n",
    "#                     else:\n",
    "#                         alpha = np.random.rand()\n",
    "#                         i = math.ceil(alpha + math.log(np.linalg.norm(p - q), self.lamb))\n",
    "#                         w[(index_p, index_q)] = self.lamb ** (i - alpha)\n",
    "        \n",
    "#         # construct weighted graph (line 5)\n",
    "#         g = Graph(len(self.dataset))\n",
    "#         for edge in E:\n",
    "#             index_p, index_q = edge\n",
    "#             g.add_edge(index_p, index_q, w[(index_p, index_q)])\n",
    "#             g.add_edge(index_q, index_p, w[(index_p, index_q)])\n",
    "\n",
    "#         # construct MST (line 6)\n",
    "#         T = g.kruskal_mst()\n",
    "\n",
    "#         # assign clusters (line 7-8)\n",
    "#         cluster = []\n",
    "#         for index_p, p in enumerate(self.dataset):\n",
    "#             if p in centers:\n",
    "#                 cluster.append((p, p))\n",
    "#             else:\n",
    "#                 for edge in T:\n",
    "#                     index_u, index_v, _ = edge\n",
    "#                     if index_p == index_u and self.dataset[index_v] in centers:\n",
    "#                         cluster.append((p, self.dataset[index_v]))\n",
    "#                     elif index_p == index_v and self.dataset[index_u] in centers:\n",
    "#                         cluster.append((p, self.dataset[index_u]))\n",
    "\n",
    "#         # (line 9-11)\n",
    "#         # Identify the vertices in P \\ C incident to the εn heaviest edges of T\n",
    "#         n = len(self.dataset)\n",
    "#         heaviest_edges = sorted(T, key=lambda item: item[2], reverse=True)[:int(self.epsilon * n)]\n",
    "#         L = set()\n",
    "#         for edge in heaviest_edges:\n",
    "#             L.add(edge[0])\n",
    "#             L.add(edge[1])\n",
    "\n",
    "#         # Select centers using [27] on P with k\n",
    "#         C_prime = self.dataset[np.random.choice(list(L), self.k, replace=False)]\n",
    "\n",
    "#         # Assign the closest center of C' to each point in L\n",
    "#         for p in L:\n",
    "#             min_dist = float('inf')\n",
    "#             closest_center = None\n",
    "#             for c in C_prime:\n",
    "#                 dist = np.linalg.norm(p - c)\n",
    "#                 if dist < min_dist:\n",
    "#                     min_dist = dist\n",
    "#                     closest_center = c\n",
    "#             cluster.append((p, closest_center))\n",
    "\n",
    "#         print(\"Final Clusters:\", cluster)\n",
    "#         return cluster"
   ]
  },
  {
   "cell_type": "code",
   "execution_count": 5,
   "metadata": {
    "colab": {
     "base_uri": "https://localhost:8080/"
    },
    "id": "1p2F0xu0re6q",
    "outputId": "1e9ad1cf-9e94-49a2-8f06-b3189d88d28b"
   },
   "outputs": [
    {
     "name": "stdout",
     "output_type": "stream",
     "text": [
      "[[7 8]\n",
      " [1 2]]\n",
      "[(0, 1), (0, 2), (0, 3), (0, 4), (1, 3), (2, 3), (3, 4)]\n",
      "{(0, 1): 1.0842375655621663, (0, 2): 0.5752409154347412, (0, 3): 0, (0, 4): 7.39503661152927, (1, 3): 2.4349454195736207, (2, 3): 0.7720691575952507, (3, 4): 0.6274459048921588}\n",
      "weighted graph: \n",
      " [[0, 1, 1.0842375655621663], [1, 0, 1.0842375655621663], [0, 2, 0.5752409154347412], [2, 0, 0.5752409154347412], [0, 3, 0], [3, 0, 0], [0, 4, 7.39503661152927], [4, 0, 7.39503661152927], [1, 3, 2.4349454195736207], [3, 1, 2.4349454195736207], [2, 3, 0.7720691575952507], [3, 2, 0.7720691575952507], [3, 4, 0.6274459048921588], [4, 3, 0.6274459048921588]]\n",
      "resilient MST: \n",
      " [[0, 3, 0], [0, 2, 0.5752409154347412], [3, 4, 0.6274459048921588], [0, 1, 1.0842375655621663]]\n",
      "[(array([1, 2]), array([1, 2])), (array([3, 4]), array([1, 2])), (array([5, 6]), array([1, 2])), (array([7, 8]), array([7, 8])), (array([ 9, 10]), array([7, 8]))]\n"
     ]
    }
   ],
   "source": [
    "test = np.array([[1, 2], [3, 4], [5, 6], [7, 8], [9, 10]])\n",
    "k = 1\n",
    "epilson = 0.3\n",
    "model = resilient_k_center(test, k, epilson)\n",
    "cluster = model.resilient_k_center()"
   ]
  },
  {
   "cell_type": "markdown",
   "metadata": {
    "id": "cvIukeIOG2Ad"
   },
   "source": [
    "## Evalutaion"
   ]
  },
  {
   "cell_type": "code",
   "execution_count": null,
   "metadata": {
    "id": "FuCZ9yIBG1gq"
   },
   "outputs": [],
   "source": []
  }
 ],
 "metadata": {
  "colab": {
   "provenance": []
  },
  "kernelspec": {
   "display_name": ".venv",
   "language": "python",
   "name": "python3"
  },
  "language_info": {
   "codemirror_mode": {
    "name": "ipython",
    "version": 3
   },
   "file_extension": ".py",
   "mimetype": "text/x-python",
   "name": "python",
   "nbconvert_exporter": "python",
   "pygments_lexer": "ipython3",
   "version": "3.11.5"
  }
 },
 "nbformat": 4,
 "nbformat_minor": 0
}
