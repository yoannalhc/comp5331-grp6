{
 "cells": [
  {
   "cell_type": "code",
   "execution_count": 1,
   "metadata": {},
   "outputs": [],
   "source": [
    "# Import necessary libraries\n",
    "import numpy as np\n",
    "import random"
   ]
  },
  {
   "cell_type": "code",
   "execution_count": 4,
   "metadata": {},
   "outputs": [],
   "source": [
    "# Define KCluster\n",
    "class Cluster:\n",
    "    def __init__(self):\n",
    "        self.elements = [] # Initially, cluster has no points inside\n",
    "        self.head = None "
   ]
  },
  {
   "cell_type": "code",
   "execution_count": 17,
   "metadata": {},
   "outputs": [],
   "source": [
    "def distance(point1, point2):\n",
    "    # This function is to calculate the distance between 2 points\n",
    "    distance_x_y = np.linalg.norm(np.array(point1) - np.array(point2))\n",
    "    return distance_x_y\n",
    "\n",
    "def initialize_clusters(data, seed = None):\n",
    "    # Since we need to initialize the first cluster, there must be someone who does that first\n",
    "    cluster = Cluster() # call class Cluster\n",
    "    cluster.elements = data.tolist() # All data now become the point of cluster 1\n",
    "    if seed is not None:\n",
    "        random.seed(seed)\n",
    "    cluster.head = random.choice(cluster.elements)\n",
    "    return [cluster]\n",
    "\n",
    "def expand_clusters(clusters, j):\n",
    "    # At this function, we will perform expansion\n",
    "\n",
    "    # We will find the point with maximal distance to the head\n",
    "    max_distance = -1\n",
    "    v_i = None \n",
    "\n",
    "    for i in range(j - 1):\n",
    "        current_cluster = clusters[i]\n",
    "\n",
    "        for point in current_cluster.elements:\n",
    "            dist = distance(point, current_cluster.head)\n",
    "            if dist > max_distance:\n",
    "                max_distance = dist\n",
    "                v_i = point\n",
    "    \n",
    "    # Create new cluster B_(j + 1)\n",
    "    new_cluster = Cluster()\n",
    "    new_cluster.head = v_i \n",
    "    new_cluster.elements = []\n",
    "    \n",
    "    # Move elements to the new cluster\n",
    "    \n",
    "    for i in range(j - 1):\n",
    "        current_cluster = clusters[i]\n",
    "\n",
    "        for point in current_cluster.elements:\n",
    "            if distance(point, v_i) <= distance(point, current_cluster.head):\n",
    "                new_cluster.elements.append(point)\n",
    "        \n",
    "        # Delete the elements that was appended to new cluster\n",
    "        current_cluster.elements = [element for element in current_cluster.elements if element not in new_cluster.elements]\n",
    "\n",
    "    # Add this new cluster to a list of cluster\n",
    "    clusters.append(new_cluster)\n",
    "\n",
    "    return clusters\n",
    "\n",
    "def get_heads(clusters):\n",
    "    # Give me the list of current clusters head\n",
    "    heads = []\n",
    "    for cluster in clusters:\n",
    "        heads.append(cluster.head)\n",
    "    \n",
    "    return heads\n"
   ]
  },
  {
   "cell_type": "code",
   "execution_count": 22,
   "metadata": {},
   "outputs": [
    {
     "name": "stdout",
     "output_type": "stream",
     "text": [
      "Head of Cluster B_1: [1, 0]\n",
      "Head of Cluster B_2: [8, 8]\n",
      "Head of Cluster B_3: [5, 5]\n",
      "Head of Cluster B_1: [1, 0]\n",
      "Cluster elements: [[1, 2], [2, 3], [1, 0], [0, 1]]\n",
      "Head of Cluster B_2: [8, 8]\n",
      "Cluster elements: [[8, 8]]\n",
      "Head of Cluster B_3: [5, 5]\n",
      "Cluster elements: [[5, 5]]\n"
     ]
    }
   ],
   "source": [
    "data = np.array([[1, 2], [2, 3], [5, 5], [8, 8], [1, 0], [0, 1]])  \n",
    "k = 3  # Number of clusters\n",
    "seed = 5331\n",
    "clusters = initialize_clusters(data, seed)\n",
    "for k in range(2, k + 1): # note that it should be range(2, k), we start from 2 because we already initialize a cluster\n",
    "    clusters = expand_clusters(clusters, k)\n",
    "\n",
    "# Get the heads of the clusters\n",
    "heads = get_heads(clusters)\n",
    "\n",
    "# Print resulting cluster heads\n",
    "for i, head in enumerate(heads):\n",
    "    print(f\"Head of Cluster B_{i + 1}: {head}\")\n",
    "\n",
    "# Print resulting cluster\n",
    "for i in range(k):\n",
    "    current_cluster = clusters[i]\n",
    "    print(f\"Head of Cluster B_{i + 1}: {current_cluster.head}\")\n",
    "    print(f\"Cluster elements: {current_cluster.elements}\")"
   ]
  }
 ],
 "metadata": {
  "kernelspec": {
   "display_name": "Python 3",
   "language": "python",
   "name": "python3"
  },
  "language_info": {
   "codemirror_mode": {
    "name": "ipython",
    "version": 3
   },
   "file_extension": ".py",
   "mimetype": "text/x-python",
   "name": "python",
   "nbconvert_exporter": "python",
   "pygments_lexer": "ipython3",
   "version": "3.11.4"
  },
  "orig_nbformat": 4,
  "vscode": {
   "interpreter": {
    "hash": "f1062708a37074d70712b695aadee582e0b0b9f95f45576b5521424137d05fec"
   }
  }
 },
 "nbformat": 4,
 "nbformat_minor": 2
}
